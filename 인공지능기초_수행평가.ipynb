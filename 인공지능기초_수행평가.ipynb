{
  "nbformat": 4,
  "nbformat_minor": 0,
  "metadata": {
    "colab": {
      "provenance": [],
      "authorship_tag": "ABX9TyN1b9vAxgaEm67MKcAXmK6U",
      "include_colab_link": true
    },
    "kernelspec": {
      "name": "python3",
      "display_name": "Python 3"
    },
    "language_info": {
      "name": "python"
    }
  },
  "cells": [
    {
      "cell_type": "markdown",
      "metadata": {
        "id": "view-in-github",
        "colab_type": "text"
      },
      "source": [
        "<a href=\"https://colab.research.google.com/github/gurugeonu-02/gurugeonu-02/blob/main/%EC%9D%B8%EA%B3%B5%EC%A7%80%EB%8A%A5%EA%B8%B0%EC%B4%88_%EC%88%98%ED%96%89%ED%8F%89%EA%B0%80.ipynb\" target=\"_parent\"><img src=\"https://colab.research.google.com/assets/colab-badge.svg\" alt=\"Open In Colab\"/></a>"
      ]
    },
    {
      "cell_type": "code",
      "execution_count": 169,
      "metadata": {
        "id": "zqSiOmRVbHw9"
      },
      "outputs": [],
      "source": [
        "# 기본 환경설정\n",
        "import pandas as pd\n",
        "import numpy as np\n",
        "import matplotlib.pyplot as plt\n",
        "import os\n",
        "import warnings\n",
        "\n",
        "from tensorflow.keras.layers import Input, Embedding, Flatten, Dot, Dense, Concatenate\n",
        "from tensorflow.keras.models import Model, load_model\n",
        "from tensorflow.keras.utils import plot_model\n",
        "from sklearn.model_selection import train_test_split\n",
        "import seaborn as sns\n",
        "import matplotlib.pyplot as plt\n",
        "warnings.filterwarnings('ignore')"
      ]
    },
    {
      "cell_type": "code",
      "source": [
        "# 데이터 준비\n",
        "data = pd.read_csv('data/userratingdata.csv')\n",
        "problems = pd.read_csv('data/problemdata.csv')"
      ],
      "metadata": {
        "id": "M4m3fptEV00_"
      },
      "execution_count": 170,
      "outputs": []
    },
    {
      "cell_type": "code",
      "source": [
        "# 사용자가 어떤 문제를 풀었는지에 대한 데이터\n",
        "print(data.shape)\n",
        "data.head()"
      ],
      "metadata": {
        "colab": {
          "base_uri": "https://localhost:8080/",
          "height": 223
        },
        "id": "ekSorTsyb37a",
        "outputId": "c1ae072e-4bb5-4ebc-8c65-7a6daee78195"
      },
      "execution_count": 171,
      "outputs": [
        {
          "output_type": "stream",
          "name": "stdout",
          "text": [
            "(260, 3)\n"
          ]
        },
        {
          "output_type": "execute_result",
          "data": {
            "text/plain": [
              "   userid  problemid  rating\n",
              "0       1          2       5\n",
              "1       1         29       4\n",
              "2       1         22       3\n",
              "3       1         16       2\n",
              "4       1         34       1"
            ],
            "text/html": [
              "\n",
              "  <div id=\"df-af3feeb7-f819-4a1c-a34d-602899ee01eb\">\n",
              "    <div class=\"colab-df-container\">\n",
              "      <div>\n",
              "<style scoped>\n",
              "    .dataframe tbody tr th:only-of-type {\n",
              "        vertical-align: middle;\n",
              "    }\n",
              "\n",
              "    .dataframe tbody tr th {\n",
              "        vertical-align: top;\n",
              "    }\n",
              "\n",
              "    .dataframe thead th {\n",
              "        text-align: right;\n",
              "    }\n",
              "</style>\n",
              "<table border=\"1\" class=\"dataframe\">\n",
              "  <thead>\n",
              "    <tr style=\"text-align: right;\">\n",
              "      <th></th>\n",
              "      <th>userid</th>\n",
              "      <th>problemid</th>\n",
              "      <th>rating</th>\n",
              "    </tr>\n",
              "  </thead>\n",
              "  <tbody>\n",
              "    <tr>\n",
              "      <th>0</th>\n",
              "      <td>1</td>\n",
              "      <td>2</td>\n",
              "      <td>5</td>\n",
              "    </tr>\n",
              "    <tr>\n",
              "      <th>1</th>\n",
              "      <td>1</td>\n",
              "      <td>29</td>\n",
              "      <td>4</td>\n",
              "    </tr>\n",
              "    <tr>\n",
              "      <th>2</th>\n",
              "      <td>1</td>\n",
              "      <td>22</td>\n",
              "      <td>3</td>\n",
              "    </tr>\n",
              "    <tr>\n",
              "      <th>3</th>\n",
              "      <td>1</td>\n",
              "      <td>16</td>\n",
              "      <td>2</td>\n",
              "    </tr>\n",
              "    <tr>\n",
              "      <th>4</th>\n",
              "      <td>1</td>\n",
              "      <td>34</td>\n",
              "      <td>1</td>\n",
              "    </tr>\n",
              "  </tbody>\n",
              "</table>\n",
              "</div>\n",
              "      <button class=\"colab-df-convert\" onclick=\"convertToInteractive('df-af3feeb7-f819-4a1c-a34d-602899ee01eb')\"\n",
              "              title=\"Convert this dataframe to an interactive table.\"\n",
              "              style=\"display:none;\">\n",
              "        \n",
              "  <svg xmlns=\"http://www.w3.org/2000/svg\" height=\"24px\"viewBox=\"0 0 24 24\"\n",
              "       width=\"24px\">\n",
              "    <path d=\"M0 0h24v24H0V0z\" fill=\"none\"/>\n",
              "    <path d=\"M18.56 5.44l.94 2.06.94-2.06 2.06-.94-2.06-.94-.94-2.06-.94 2.06-2.06.94zm-11 1L8.5 8.5l.94-2.06 2.06-.94-2.06-.94L8.5 2.5l-.94 2.06-2.06.94zm10 10l.94 2.06.94-2.06 2.06-.94-2.06-.94-.94-2.06-.94 2.06-2.06.94z\"/><path d=\"M17.41 7.96l-1.37-1.37c-.4-.4-.92-.59-1.43-.59-.52 0-1.04.2-1.43.59L10.3 9.45l-7.72 7.72c-.78.78-.78 2.05 0 2.83L4 21.41c.39.39.9.59 1.41.59.51 0 1.02-.2 1.41-.59l7.78-7.78 2.81-2.81c.8-.78.8-2.07 0-2.86zM5.41 20L4 18.59l7.72-7.72 1.47 1.35L5.41 20z\"/>\n",
              "  </svg>\n",
              "      </button>\n",
              "      \n",
              "  <style>\n",
              "    .colab-df-container {\n",
              "      display:flex;\n",
              "      flex-wrap:wrap;\n",
              "      gap: 12px;\n",
              "    }\n",
              "\n",
              "    .colab-df-convert {\n",
              "      background-color: #E8F0FE;\n",
              "      border: none;\n",
              "      border-radius: 50%;\n",
              "      cursor: pointer;\n",
              "      display: none;\n",
              "      fill: #1967D2;\n",
              "      height: 32px;\n",
              "      padding: 0 0 0 0;\n",
              "      width: 32px;\n",
              "    }\n",
              "\n",
              "    .colab-df-convert:hover {\n",
              "      background-color: #E2EBFA;\n",
              "      box-shadow: 0px 1px 2px rgba(60, 64, 67, 0.3), 0px 1px 3px 1px rgba(60, 64, 67, 0.15);\n",
              "      fill: #174EA6;\n",
              "    }\n",
              "\n",
              "    [theme=dark] .colab-df-convert {\n",
              "      background-color: #3B4455;\n",
              "      fill: #D2E3FC;\n",
              "    }\n",
              "\n",
              "    [theme=dark] .colab-df-convert:hover {\n",
              "      background-color: #434B5C;\n",
              "      box-shadow: 0px 1px 3px 1px rgba(0, 0, 0, 0.15);\n",
              "      filter: drop-shadow(0px 1px 2px rgba(0, 0, 0, 0.3));\n",
              "      fill: #FFFFFF;\n",
              "    }\n",
              "  </style>\n",
              "\n",
              "      <script>\n",
              "        const buttonEl =\n",
              "          document.querySelector('#df-af3feeb7-f819-4a1c-a34d-602899ee01eb button.colab-df-convert');\n",
              "        buttonEl.style.display =\n",
              "          google.colab.kernel.accessAllowed ? 'block' : 'none';\n",
              "\n",
              "        async function convertToInteractive(key) {\n",
              "          const element = document.querySelector('#df-af3feeb7-f819-4a1c-a34d-602899ee01eb');\n",
              "          const dataTable =\n",
              "            await google.colab.kernel.invokeFunction('convertToInteractive',\n",
              "                                                     [key], {});\n",
              "          if (!dataTable) return;\n",
              "\n",
              "          const docLinkHtml = 'Like what you see? Visit the ' +\n",
              "            '<a target=\"_blank\" href=https://colab.research.google.com/notebooks/data_table.ipynb>data table notebook</a>'\n",
              "            + ' to learn more about interactive tables.';\n",
              "          element.innerHTML = '';\n",
              "          dataTable['output_type'] = 'display_data';\n",
              "          await google.colab.output.renderOutput(dataTable, element);\n",
              "          const docLink = document.createElement('div');\n",
              "          docLink.innerHTML = docLinkHtml;\n",
              "          element.appendChild(docLink);\n",
              "        }\n",
              "      </script>\n",
              "    </div>\n",
              "  </div>\n",
              "  "
            ]
          },
          "metadata": {},
          "execution_count": 171
        }
      ]
    },
    {
      "cell_type": "code",
      "source": [
        "# 문제에 대한 정보\n",
        "print(problems.shape)\n",
        "problems.head()"
      ],
      "metadata": {
        "colab": {
          "base_uri": "https://localhost:8080/",
          "height": 223
        },
        "id": "lt5jele-cBDE",
        "outputId": "d52d559f-4c67-452a-83a7-238b938951df"
      },
      "execution_count": 172,
      "outputs": [
        {
          "output_type": "stream",
          "name": "stdout",
          "text": [
            "(90, 7)\n"
          ]
        },
        {
          "output_type": "execute_result",
          "data": {
            "text/plain": [
              "   problem  ratings_1  ratings_2  ratings_3  ratings_4  ratings_5   pid\n",
              "0        2          0         30          7          0          1  1001\n",
              "1       23          0          0          0          1          0  1100\n",
              "2       20          1          0          1          0          0  1051\n",
              "3       14          0          1          0          0          0  1018\n",
              "4       25          1          0          0          0          0  1145"
            ],
            "text/html": [
              "\n",
              "  <div id=\"df-96c8712f-cf35-484d-8a4d-52d48bec8656\">\n",
              "    <div class=\"colab-df-container\">\n",
              "      <div>\n",
              "<style scoped>\n",
              "    .dataframe tbody tr th:only-of-type {\n",
              "        vertical-align: middle;\n",
              "    }\n",
              "\n",
              "    .dataframe tbody tr th {\n",
              "        vertical-align: top;\n",
              "    }\n",
              "\n",
              "    .dataframe thead th {\n",
              "        text-align: right;\n",
              "    }\n",
              "</style>\n",
              "<table border=\"1\" class=\"dataframe\">\n",
              "  <thead>\n",
              "    <tr style=\"text-align: right;\">\n",
              "      <th></th>\n",
              "      <th>problem</th>\n",
              "      <th>ratings_1</th>\n",
              "      <th>ratings_2</th>\n",
              "      <th>ratings_3</th>\n",
              "      <th>ratings_4</th>\n",
              "      <th>ratings_5</th>\n",
              "      <th>pid</th>\n",
              "    </tr>\n",
              "  </thead>\n",
              "  <tbody>\n",
              "    <tr>\n",
              "      <th>0</th>\n",
              "      <td>2</td>\n",
              "      <td>0</td>\n",
              "      <td>30</td>\n",
              "      <td>7</td>\n",
              "      <td>0</td>\n",
              "      <td>1</td>\n",
              "      <td>1001</td>\n",
              "    </tr>\n",
              "    <tr>\n",
              "      <th>1</th>\n",
              "      <td>23</td>\n",
              "      <td>0</td>\n",
              "      <td>0</td>\n",
              "      <td>0</td>\n",
              "      <td>1</td>\n",
              "      <td>0</td>\n",
              "      <td>1100</td>\n",
              "    </tr>\n",
              "    <tr>\n",
              "      <th>2</th>\n",
              "      <td>20</td>\n",
              "      <td>1</td>\n",
              "      <td>0</td>\n",
              "      <td>1</td>\n",
              "      <td>0</td>\n",
              "      <td>0</td>\n",
              "      <td>1051</td>\n",
              "    </tr>\n",
              "    <tr>\n",
              "      <th>3</th>\n",
              "      <td>14</td>\n",
              "      <td>0</td>\n",
              "      <td>1</td>\n",
              "      <td>0</td>\n",
              "      <td>0</td>\n",
              "      <td>0</td>\n",
              "      <td>1018</td>\n",
              "    </tr>\n",
              "    <tr>\n",
              "      <th>4</th>\n",
              "      <td>25</td>\n",
              "      <td>1</td>\n",
              "      <td>0</td>\n",
              "      <td>0</td>\n",
              "      <td>0</td>\n",
              "      <td>0</td>\n",
              "      <td>1145</td>\n",
              "    </tr>\n",
              "  </tbody>\n",
              "</table>\n",
              "</div>\n",
              "      <button class=\"colab-df-convert\" onclick=\"convertToInteractive('df-96c8712f-cf35-484d-8a4d-52d48bec8656')\"\n",
              "              title=\"Convert this dataframe to an interactive table.\"\n",
              "              style=\"display:none;\">\n",
              "        \n",
              "  <svg xmlns=\"http://www.w3.org/2000/svg\" height=\"24px\"viewBox=\"0 0 24 24\"\n",
              "       width=\"24px\">\n",
              "    <path d=\"M0 0h24v24H0V0z\" fill=\"none\"/>\n",
              "    <path d=\"M18.56 5.44l.94 2.06.94-2.06 2.06-.94-2.06-.94-.94-2.06-.94 2.06-2.06.94zm-11 1L8.5 8.5l.94-2.06 2.06-.94-2.06-.94L8.5 2.5l-.94 2.06-2.06.94zm10 10l.94 2.06.94-2.06 2.06-.94-2.06-.94-.94-2.06-.94 2.06-2.06.94z\"/><path d=\"M17.41 7.96l-1.37-1.37c-.4-.4-.92-.59-1.43-.59-.52 0-1.04.2-1.43.59L10.3 9.45l-7.72 7.72c-.78.78-.78 2.05 0 2.83L4 21.41c.39.39.9.59 1.41.59.51 0 1.02-.2 1.41-.59l7.78-7.78 2.81-2.81c.8-.78.8-2.07 0-2.86zM5.41 20L4 18.59l7.72-7.72 1.47 1.35L5.41 20z\"/>\n",
              "  </svg>\n",
              "      </button>\n",
              "      \n",
              "  <style>\n",
              "    .colab-df-container {\n",
              "      display:flex;\n",
              "      flex-wrap:wrap;\n",
              "      gap: 12px;\n",
              "    }\n",
              "\n",
              "    .colab-df-convert {\n",
              "      background-color: #E8F0FE;\n",
              "      border: none;\n",
              "      border-radius: 50%;\n",
              "      cursor: pointer;\n",
              "      display: none;\n",
              "      fill: #1967D2;\n",
              "      height: 32px;\n",
              "      padding: 0 0 0 0;\n",
              "      width: 32px;\n",
              "    }\n",
              "\n",
              "    .colab-df-convert:hover {\n",
              "      background-color: #E2EBFA;\n",
              "      box-shadow: 0px 1px 2px rgba(60, 64, 67, 0.3), 0px 1px 3px 1px rgba(60, 64, 67, 0.15);\n",
              "      fill: #174EA6;\n",
              "    }\n",
              "\n",
              "    [theme=dark] .colab-df-convert {\n",
              "      background-color: #3B4455;\n",
              "      fill: #D2E3FC;\n",
              "    }\n",
              "\n",
              "    [theme=dark] .colab-df-convert:hover {\n",
              "      background-color: #434B5C;\n",
              "      box-shadow: 0px 1px 3px 1px rgba(0, 0, 0, 0.15);\n",
              "      filter: drop-shadow(0px 1px 2px rgba(0, 0, 0, 0.3));\n",
              "      fill: #FFFFFF;\n",
              "    }\n",
              "  </style>\n",
              "\n",
              "      <script>\n",
              "        const buttonEl =\n",
              "          document.querySelector('#df-96c8712f-cf35-484d-8a4d-52d48bec8656 button.colab-df-convert');\n",
              "        buttonEl.style.display =\n",
              "          google.colab.kernel.accessAllowed ? 'block' : 'none';\n",
              "\n",
              "        async function convertToInteractive(key) {\n",
              "          const element = document.querySelector('#df-96c8712f-cf35-484d-8a4d-52d48bec8656');\n",
              "          const dataTable =\n",
              "            await google.colab.kernel.invokeFunction('convertToInteractive',\n",
              "                                                     [key], {});\n",
              "          if (!dataTable) return;\n",
              "\n",
              "          const docLinkHtml = 'Like what you see? Visit the ' +\n",
              "            '<a target=\"_blank\" href=https://colab.research.google.com/notebooks/data_table.ipynb>data table notebook</a>'\n",
              "            + ' to learn more about interactive tables.';\n",
              "          element.innerHTML = '';\n",
              "          dataTable['output_type'] = 'display_data';\n",
              "          await google.colab.output.renderOutput(dataTable, element);\n",
              "          const docLink = document.createElement('div');\n",
              "          docLink.innerHTML = docLinkHtml;\n",
              "          element.appendChild(docLink);\n",
              "        }\n",
              "      </script>\n",
              "    </div>\n",
              "  </div>\n",
              "  "
            ]
          },
          "metadata": {},
          "execution_count": 172
        }
      ]
    },
    {
      "cell_type": "code",
      "source": [
        "data.info()"
      ],
      "metadata": {
        "colab": {
          "base_uri": "https://localhost:8080/"
        },
        "id": "utZDU5TYcR2A",
        "outputId": "6b9a2037-e8fd-489d-b83c-a9665eb6fff8"
      },
      "execution_count": 173,
      "outputs": [
        {
          "output_type": "stream",
          "name": "stdout",
          "text": [
            "<class 'pandas.core.frame.DataFrame'>\n",
            "RangeIndex: 260 entries, 0 to 259\n",
            "Data columns (total 3 columns):\n",
            " #   Column     Non-Null Count  Dtype\n",
            "---  ------     --------------  -----\n",
            " 0   userid     260 non-null    int64\n",
            " 1   problemid  260 non-null    int64\n",
            " 2   rating     260 non-null    int64\n",
            "dtypes: int64(3)\n",
            "memory usage: 6.2 KB\n"
          ]
        }
      ]
    },
    {
      "cell_type": "code",
      "source": [
        "problems.info()"
      ],
      "metadata": {
        "colab": {
          "base_uri": "https://localhost:8080/"
        },
        "id": "Cud3PYTacURH",
        "outputId": "cebea21d-7cdb-425a-f26c-f98eb5d935d1"
      },
      "execution_count": 174,
      "outputs": [
        {
          "output_type": "stream",
          "name": "stdout",
          "text": [
            "<class 'pandas.core.frame.DataFrame'>\n",
            "RangeIndex: 90 entries, 0 to 89\n",
            "Data columns (total 7 columns):\n",
            " #   Column     Non-Null Count  Dtype\n",
            "---  ------     --------------  -----\n",
            " 0   problem    90 non-null     int64\n",
            " 1   ratings_1  90 non-null     int64\n",
            " 2   ratings_2  90 non-null     int64\n",
            " 3   ratings_3  90 non-null     int64\n",
            " 4   ratings_4  90 non-null     int64\n",
            " 5   ratings_5  90 non-null     int64\n",
            " 6   pid        90 non-null     int64\n",
            "dtypes: int64(7)\n",
            "memory usage: 5.0 KB\n"
          ]
        }
      ]
    },
    {
      "cell_type": "code",
      "source": [
        "train, test = train_test_split(data, test_size = 0.2) # 훈련 데이터 80%, 테스트 데이터 20%로 나눠줌\n",
        "print(train.shape, test.shape)\n",
        "train.head()"
      ],
      "metadata": {
        "colab": {
          "base_uri": "https://localhost:8080/",
          "height": 223
        },
        "id": "PBDstKfJcYdw",
        "outputId": "ac70ebf5-9bc8-470e-996a-65480f424618"
      },
      "execution_count": 175,
      "outputs": [
        {
          "output_type": "stream",
          "name": "stdout",
          "text": [
            "(208, 3) (52, 3)\n"
          ]
        },
        {
          "output_type": "execute_result",
          "data": {
            "text/plain": [
              "     userid  problemid  rating\n",
              "86       18         45       4\n",
              "205      42          1       5\n",
              "66       14          1       4\n",
              "152      31          3       3\n",
              "220      45         73       5"
            ],
            "text/html": [
              "\n",
              "  <div id=\"df-7287fea0-9f7a-4279-9497-68416ff29117\">\n",
              "    <div class=\"colab-df-container\">\n",
              "      <div>\n",
              "<style scoped>\n",
              "    .dataframe tbody tr th:only-of-type {\n",
              "        vertical-align: middle;\n",
              "    }\n",
              "\n",
              "    .dataframe tbody tr th {\n",
              "        vertical-align: top;\n",
              "    }\n",
              "\n",
              "    .dataframe thead th {\n",
              "        text-align: right;\n",
              "    }\n",
              "</style>\n",
              "<table border=\"1\" class=\"dataframe\">\n",
              "  <thead>\n",
              "    <tr style=\"text-align: right;\">\n",
              "      <th></th>\n",
              "      <th>userid</th>\n",
              "      <th>problemid</th>\n",
              "      <th>rating</th>\n",
              "    </tr>\n",
              "  </thead>\n",
              "  <tbody>\n",
              "    <tr>\n",
              "      <th>86</th>\n",
              "      <td>18</td>\n",
              "      <td>45</td>\n",
              "      <td>4</td>\n",
              "    </tr>\n",
              "    <tr>\n",
              "      <th>205</th>\n",
              "      <td>42</td>\n",
              "      <td>1</td>\n",
              "      <td>5</td>\n",
              "    </tr>\n",
              "    <tr>\n",
              "      <th>66</th>\n",
              "      <td>14</td>\n",
              "      <td>1</td>\n",
              "      <td>4</td>\n",
              "    </tr>\n",
              "    <tr>\n",
              "      <th>152</th>\n",
              "      <td>31</td>\n",
              "      <td>3</td>\n",
              "      <td>3</td>\n",
              "    </tr>\n",
              "    <tr>\n",
              "      <th>220</th>\n",
              "      <td>45</td>\n",
              "      <td>73</td>\n",
              "      <td>5</td>\n",
              "    </tr>\n",
              "  </tbody>\n",
              "</table>\n",
              "</div>\n",
              "      <button class=\"colab-df-convert\" onclick=\"convertToInteractive('df-7287fea0-9f7a-4279-9497-68416ff29117')\"\n",
              "              title=\"Convert this dataframe to an interactive table.\"\n",
              "              style=\"display:none;\">\n",
              "        \n",
              "  <svg xmlns=\"http://www.w3.org/2000/svg\" height=\"24px\"viewBox=\"0 0 24 24\"\n",
              "       width=\"24px\">\n",
              "    <path d=\"M0 0h24v24H0V0z\" fill=\"none\"/>\n",
              "    <path d=\"M18.56 5.44l.94 2.06.94-2.06 2.06-.94-2.06-.94-.94-2.06-.94 2.06-2.06.94zm-11 1L8.5 8.5l.94-2.06 2.06-.94-2.06-.94L8.5 2.5l-.94 2.06-2.06.94zm10 10l.94 2.06.94-2.06 2.06-.94-2.06-.94-.94-2.06-.94 2.06-2.06.94z\"/><path d=\"M17.41 7.96l-1.37-1.37c-.4-.4-.92-.59-1.43-.59-.52 0-1.04.2-1.43.59L10.3 9.45l-7.72 7.72c-.78.78-.78 2.05 0 2.83L4 21.41c.39.39.9.59 1.41.59.51 0 1.02-.2 1.41-.59l7.78-7.78 2.81-2.81c.8-.78.8-2.07 0-2.86zM5.41 20L4 18.59l7.72-7.72 1.47 1.35L5.41 20z\"/>\n",
              "  </svg>\n",
              "      </button>\n",
              "      \n",
              "  <style>\n",
              "    .colab-df-container {\n",
              "      display:flex;\n",
              "      flex-wrap:wrap;\n",
              "      gap: 12px;\n",
              "    }\n",
              "\n",
              "    .colab-df-convert {\n",
              "      background-color: #E8F0FE;\n",
              "      border: none;\n",
              "      border-radius: 50%;\n",
              "      cursor: pointer;\n",
              "      display: none;\n",
              "      fill: #1967D2;\n",
              "      height: 32px;\n",
              "      padding: 0 0 0 0;\n",
              "      width: 32px;\n",
              "    }\n",
              "\n",
              "    .colab-df-convert:hover {\n",
              "      background-color: #E2EBFA;\n",
              "      box-shadow: 0px 1px 2px rgba(60, 64, 67, 0.3), 0px 1px 3px 1px rgba(60, 64, 67, 0.15);\n",
              "      fill: #174EA6;\n",
              "    }\n",
              "\n",
              "    [theme=dark] .colab-df-convert {\n",
              "      background-color: #3B4455;\n",
              "      fill: #D2E3FC;\n",
              "    }\n",
              "\n",
              "    [theme=dark] .colab-df-convert:hover {\n",
              "      background-color: #434B5C;\n",
              "      box-shadow: 0px 1px 3px 1px rgba(0, 0, 0, 0.15);\n",
              "      filter: drop-shadow(0px 1px 2px rgba(0, 0, 0, 0.3));\n",
              "      fill: #FFFFFF;\n",
              "    }\n",
              "  </style>\n",
              "\n",
              "      <script>\n",
              "        const buttonEl =\n",
              "          document.querySelector('#df-7287fea0-9f7a-4279-9497-68416ff29117 button.colab-df-convert');\n",
              "        buttonEl.style.display =\n",
              "          google.colab.kernel.accessAllowed ? 'block' : 'none';\n",
              "\n",
              "        async function convertToInteractive(key) {\n",
              "          const element = document.querySelector('#df-7287fea0-9f7a-4279-9497-68416ff29117');\n",
              "          const dataTable =\n",
              "            await google.colab.kernel.invokeFunction('convertToInteractive',\n",
              "                                                     [key], {});\n",
              "          if (!dataTable) return;\n",
              "\n",
              "          const docLinkHtml = 'Like what you see? Visit the ' +\n",
              "            '<a target=\"_blank\" href=https://colab.research.google.com/notebooks/data_table.ipynb>data table notebook</a>'\n",
              "            + ' to learn more about interactive tables.';\n",
              "          element.innerHTML = '';\n",
              "          dataTable['output_type'] = 'display_data';\n",
              "          await google.colab.output.renderOutput(dataTable, element);\n",
              "          const docLink = document.createElement('div');\n",
              "          docLink.innerHTML = docLinkHtml;\n",
              "          element.appendChild(docLink);\n",
              "        }\n",
              "      </script>\n",
              "    </div>\n",
              "  </div>\n",
              "  "
            ]
          },
          "metadata": {},
          "execution_count": 175
        }
      ]
    },
    {
      "cell_type": "code",
      "source": [
        "number_of_unique_user = len(data.userid.unique())\n",
        "number_of_unique_problems = len(data.problemid.unique())\n",
        "print(\"유저 수:\", number_of_unique_user, \", 문제 수:\", number_of_unique_problems)"
      ],
      "metadata": {
        "colab": {
          "base_uri": "https://localhost:8080/"
        },
        "id": "KFe640XSckYv",
        "outputId": "2ff7dc2d-046e-4379-dcd7-2605d1c85cee"
      },
      "execution_count": 176,
      "outputs": [
        {
          "output_type": "stream",
          "name": "stdout",
          "text": [
            "유저 수: 52 , 문제 수: 90\n"
          ]
        }
      ]
    },
    {
      "cell_type": "markdown",
      "source": [
        "# Attempt 1\n",
        "    간단한 Dot Product 형태의 모델\n",
        "    사용자 embedding과 problemembedding을 기반으로 나온 벡터 값을 Dot 연산을 통해 rating을 예측하는 방법"
      ],
      "metadata": {
        "id": "G5YmGMwcdUvT"
      }
    },
    {
      "cell_type": "code",
      "source": [
        "# Layer 만들기\n",
        "problem_input = Input(shape=(1,), name='problem_input_layer')\n",
        "user_input = Input(shape=(1,), name='user_input_layer')\n",
        "\n",
        "problem_embedding_layer = Embedding(number_of_unique_problems+1, 8, name='problem_embedding_layer')\n",
        "user_embedding_layer = Embedding(number_of_unique_user+1, 8, name='user_embedding_layer')\n",
        "\n",
        "concate_layer = Concatenate()\n",
        "\n",
        "problem_vector_layer = Flatten(name='problem_vector_layer')\n",
        "user_vector_layer = Flatten(name='user_vector_layer')\n",
        "\n",
        "dense_layer1 = Dense(128, activation='relu')\n",
        "dense_layer2 = Dense(32, activation='relu')\n",
        "\n",
        "result_layer = Dense(1)"
      ],
      "metadata": {
        "id": "ziEfZG9Edhs_"
      },
      "execution_count": 177,
      "outputs": []
    },
    {
      "cell_type": "code",
      "source": [
        "# Layer 쌓기\n",
        "problem_embedding = problem_embedding_layer(problem_input)\n",
        "user_embedding = user_embedding_layer(user_input)\n",
        "\n",
        "problem_vector = problem_vector_layer(problem_embedding)\n",
        "user_vector = user_vector_layer(user_embedding)\n",
        "\n",
        "concat = concate_layer([problem_vector, user_vector])\n",
        "dense1 = dense_layer1(concat)\n",
        "dense2 = dense_layer2(dense1)\n",
        "\n",
        "result = result_layer(dense2)\n",
        "\n",
        "model = Model(inputs=[user_input, problem_input], outputs=result)"
      ],
      "metadata": {
        "id": "xtcjDmCheJov"
      },
      "execution_count": 178,
      "outputs": []
    },
    {
      "cell_type": "code",
      "source": [
        "# 모델의 구조\n",
        "model.summary()"
      ],
      "metadata": {
        "colab": {
          "base_uri": "https://localhost:8080/"
        },
        "id": "AlYtQAj6ehl9",
        "outputId": "eea8413e-b2d7-4705-eb1f-4c9f7c40a599"
      },
      "execution_count": 179,
      "outputs": [
        {
          "output_type": "stream",
          "name": "stdout",
          "text": [
            "Model: \"model_9\"\n",
            "__________________________________________________________________________________________________\n",
            " Layer (type)                   Output Shape         Param #     Connected to                     \n",
            "==================================================================================================\n",
            " problem_input_layer (InputLaye  [(None, 1)]         0           []                               \n",
            " r)                                                                                               \n",
            "                                                                                                  \n",
            " user_input_layer (InputLayer)  [(None, 1)]          0           []                               \n",
            "                                                                                                  \n",
            " problem_embedding_layer (Embed  (None, 1, 8)        728         ['problem_input_layer[0][0]']    \n",
            " ding)                                                                                            \n",
            "                                                                                                  \n",
            " user_embedding_layer (Embeddin  (None, 1, 8)        424         ['user_input_layer[0][0]']       \n",
            " g)                                                                                               \n",
            "                                                                                                  \n",
            " problem_vector_layer (Flatten)  (None, 8)           0           ['problem_embedding_layer[0][0]']\n",
            "                                                                                                  \n",
            " user_vector_layer (Flatten)    (None, 8)            0           ['user_embedding_layer[0][0]']   \n",
            "                                                                                                  \n",
            " concatenate_10 (Concatenate)   (None, 16)           0           ['problem_vector_layer[0][0]',   \n",
            "                                                                  'user_vector_layer[0][0]']      \n",
            "                                                                                                  \n",
            " dense_30 (Dense)               (None, 128)          2176        ['concatenate_10[0][0]']         \n",
            "                                                                                                  \n",
            " dense_31 (Dense)               (None, 32)           4128        ['dense_30[0][0]']               \n",
            "                                                                                                  \n",
            " dense_32 (Dense)               (None, 1)            33          ['dense_31[0][0]']               \n",
            "                                                                                                  \n",
            "==================================================================================================\n",
            "Total params: 7,489\n",
            "Trainable params: 7,489\n",
            "Non-trainable params: 0\n",
            "__________________________________________________________________________________________________\n"
          ]
        }
      ]
    },
    {
      "cell_type": "code",
      "source": [
        "# 모델의 구조\n",
        "plot_model(model, to_file='dense_layerl.png', show_shapes=True, show_layer_names=True)"
      ],
      "metadata": {
        "colab": {
          "base_uri": "https://localhost:8080/",
          "height": 754
        },
        "id": "JVPLez5Rek1N",
        "outputId": "118ef533-e56f-46f7-887d-eebb25ab753f"
      },
      "execution_count": 180,
      "outputs": [
        {
          "output_type": "execute_result",
          "data": {
            "image/png": "[encoded data removed]",
            "text/plain": [
              "<IPython.core.display.Image object>"
            ]
          },
          "metadata": {},
          "execution_count": 180
        }
      ]
    },
    {
      "cell_type": "code",
      "source": [
        "# 모델 컴파일\n",
        "model.compile(loss='mse', optimizer='adam', metrics=['mse'])"
      ],
      "metadata": {
        "id": "M7_KXv7PezTJ"
      },
      "execution_count": 181,
      "outputs": []
    },
    {
      "cell_type": "code",
      "source": [
        "# 모델 훈련시키기\n",
        "x_train = [train.userid, train.problemid]\n",
        "y_train= train.rating\n",
        "history = model.fit(x_train, y_train, batch_size=10, epochs=32, verbose=True)"
      ],
      "metadata": {
        "colab": {
          "base_uri": "https://localhost:8080/"
        },
        "id": "FR4LvNFWe3cH",
        "outputId": "0b5b5b3b-179a-4824-8f43-32a9f9cc5a11"
      },
      "execution_count": 182,
      "outputs": [
        {
          "output_type": "stream",
          "name": "stdout",
          "text": [
            "Epoch 1/32\n",
            "21/21 [==============================] - 1s 3ms/step - loss: 10.3620 - mse: 10.3620\n",
            "Epoch 2/32\n",
            "21/21 [==============================] - 0s 2ms/step - loss: 7.6782 - mse: 7.6782\n",
            "Epoch 3/32\n",
            "21/21 [==============================] - 0s 2ms/step - loss: 3.5395 - mse: 3.5395\n",
            "Epoch 4/32\n",
            "21/21 [==============================] - 0s 2ms/step - loss: 1.5148 - mse: 1.5148\n",
            "Epoch 5/32\n",
            "21/21 [==============================] - 0s 4ms/step - loss: 1.1667 - mse: 1.1667\n",
            "Epoch 6/32\n",
            "21/21 [==============================] - 0s 3ms/step - loss: 0.9207 - mse: 0.9207\n",
            "Epoch 7/32\n",
            "21/21 [==============================] - 0s 3ms/step - loss: 0.7975 - mse: 0.7975\n",
            "Epoch 8/32\n",
            "21/21 [==============================] - 0s 4ms/step - loss: 0.7172 - mse: 0.7172\n",
            "Epoch 9/32\n",
            "21/21 [==============================] - 0s 2ms/step - loss: 0.6574 - mse: 0.6574\n",
            "Epoch 10/32\n",
            "21/21 [==============================] - 0s 2ms/step - loss: 0.5955 - mse: 0.5955\n",
            "Epoch 11/32\n",
            "21/21 [==============================] - 0s 2ms/step - loss: 0.5540 - mse: 0.5540\n",
            "Epoch 12/32\n",
            "21/21 [==============================] - 0s 3ms/step - loss: 0.5193 - mse: 0.5193\n",
            "Epoch 13/32\n",
            "21/21 [==============================] - 0s 2ms/step - loss: 0.4899 - mse: 0.4899\n",
            "Epoch 14/32\n",
            "21/21 [==============================] - 0s 3ms/step - loss: 0.4737 - mse: 0.4737\n",
            "Epoch 15/32\n",
            "21/21 [==============================] - 0s 2ms/step - loss: 0.4529 - mse: 0.4529\n",
            "Epoch 16/32\n",
            "21/21 [==============================] - 0s 3ms/step - loss: 0.4424 - mse: 0.4424\n",
            "Epoch 17/32\n",
            "21/21 [==============================] - 0s 3ms/step - loss: 0.4368 - mse: 0.4368\n",
            "Epoch 18/32\n",
            "21/21 [==============================] - 0s 2ms/step - loss: 0.4148 - mse: 0.4148\n",
            "Epoch 19/32\n",
            "21/21 [==============================] - 0s 3ms/step - loss: 0.4228 - mse: 0.4228\n",
            "Epoch 20/32\n",
            "21/21 [==============================] - 0s 2ms/step - loss: 0.3968 - mse: 0.3968\n",
            "Epoch 21/32\n",
            "21/21 [==============================] - 0s 3ms/step - loss: 0.3898 - mse: 0.3898\n",
            "Epoch 22/32\n",
            "21/21 [==============================] - 0s 2ms/step - loss: 0.3866 - mse: 0.3866\n",
            "Epoch 23/32\n",
            "21/21 [==============================] - 0s 2ms/step - loss: 0.3947 - mse: 0.3947\n",
            "Epoch 24/32\n",
            "21/21 [==============================] - 0s 3ms/step - loss: 0.3888 - mse: 0.3888\n",
            "Epoch 25/32\n",
            "21/21 [==============================] - 0s 3ms/step - loss: 0.3806 - mse: 0.3806\n",
            "Epoch 26/32\n",
            "21/21 [==============================] - 0s 2ms/step - loss: 0.3889 - mse: 0.3889\n",
            "Epoch 27/32\n",
            "21/21 [==============================] - 0s 2ms/step - loss: 0.3645 - mse: 0.3645\n",
            "Epoch 28/32\n",
            "21/21 [==============================] - 0s 3ms/step - loss: 0.3637 - mse: 0.3637\n",
            "Epoch 29/32\n",
            "21/21 [==============================] - 0s 2ms/step - loss: 0.3645 - mse: 0.3645\n",
            "Epoch 30/32\n",
            "21/21 [==============================] - 0s 3ms/step - loss: 0.3538 - mse: 0.3538\n",
            "Epoch 31/32\n",
            "21/21 [==============================] - 0s 2ms/step - loss: 0.3540 - mse: 0.3540\n",
            "Epoch 32/32\n",
            "21/21 [==============================] - 0s 2ms/step - loss: 0.3374 - mse: 0.3374\n"
          ]
        }
      ]
    },
    {
      "cell_type": "code",
      "source": [
        "# epoch\n",
        "plt.plot(history.history['loss'])\n",
        "plt.xlabel('epochs')\n",
        "plt.ylabel('training error')"
      ],
      "metadata": {
        "id": "TLVP401LgD2m",
        "colab": {
          "base_uri": "https://localhost:8080/",
          "height": 296
        },
        "outputId": "88e7bb3a-303a-40d0-8092-e095f2d93809"
      },
      "execution_count": 183,
      "outputs": [
        {
          "output_type": "execute_result",
          "data": {
            "text/plain": [
              "Text(0, 0.5, 'training error')"
            ]
          },
          "metadata": {},
          "execution_count": 183
        },
        {
          "output_type": "display_data",
          "data": {
            "text/plain": [
              "<Figure size 432x288 with 1 Axes>"
            ],
            "image/png": "[encoded data removed]"
          },
          "metadata": {
            "needs_background": "light"
          }
        }
      ]
    },
    {
      "cell_type": "code",
      "source": [
        "model.evaluate([test.userid, test.problemid], test.rating)"
      ],
      "metadata": {
        "id": "Sjub04osgRQC",
        "colab": {
          "base_uri": "https://localhost:8080/"
        },
        "outputId": "26a21d5f-32c9-4c5a-b5b1-d34b45fe0752"
      },
      "execution_count": 184,
      "outputs": [
        {
          "output_type": "stream",
          "name": "stdout",
          "text": [
            "2/2 [==============================] - 0s 7ms/step - loss: 1.5464 - mse: 1.5464\n"
          ]
        },
        {
          "output_type": "execute_result",
          "data": {
            "text/plain": [
              "[1.5463799238204956, 1.5463799238204956]"
            ]
          },
          "metadata": {},
          "execution_count": 184
        }
      ]
    },
    {
      "cell_type": "code",
      "source": [
        "predictions = model.predict([test.userid.head(10), test.problemid.head(10)])\n",
        "for p, t in zip(predictions, test.rating.values[:10]):\n",
        "    print(p, t)"
      ],
      "metadata": {
        "id": "_FL1tuG4gWgB",
        "colab": {
          "base_uri": "https://localhost:8080/"
        },
        "outputId": "5bfab54d-dfaa-43f4-ba89-0f42fe395d13"
      },
      "execution_count": 185,
      "outputs": [
        {
          "output_type": "stream",
          "name": "stdout",
          "text": [
            "1/1 [==============================] - 0s 86ms/step\n",
            "[4.831589] 5\n",
            "[3.0039382] 1\n",
            "[4.0527754] 4\n",
            "[4.476573] 5\n",
            "[2.3013768] 2\n",
            "[3.3580337] 4\n",
            "[1.9436007] 3\n",
            "[1.9704117] 4\n",
            "[3.3949656] 2\n",
            "[4.150893] 4\n"
          ]
        }
      ]
    },
    {
      "cell_type": "markdown",
      "source": [
        "# 결론\n",
        "    - 데이터가 적어서 그런지 모델의 정확도가 많이 높지는 않다\n",
        "    - 다음에 또 만들게 된다면 데이터를 충분히 모아서 하는 게 좋을 것 같다\n",
        "    - 그래도 대부분 유저가 몇 번째로 푸는 게 적절하게 판단하였다"
      ],
      "metadata": {
        "id": "ZNxGzJrOfPhb"
      }
    }
  ]
}